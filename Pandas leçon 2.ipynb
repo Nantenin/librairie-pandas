{
 "cells": [
  {
   "cell_type": "code",
   "execution_count": 1,
   "id": "df5dd818",
   "metadata": {},
   "outputs": [],
   "source": [
    "import pandas as pd\n",
    "import numpy as np"
   ]
  },
  {
   "cell_type": "code",
   "execution_count": 2,
   "id": "eb75d463",
   "metadata": {},
   "outputs": [
    {
     "name": "stdout",
     "output_type": "stream",
     "text": [
      "<class 'numpy.ndarray'>\n"
     ]
    },
    {
     "data": {
      "text/plain": [
       "array([[100. ,   5. ,  20. ,  80. ],\n",
       "       [ 50. ,   2.5,  10. ,  40. ],\n",
       "       [110. ,   6. ,  22. ,  80. ]])"
      ]
     },
     "execution_count": 2,
     "metadata": {},
     "output_type": "execute_result"
    }
   ],
   "source": [
    "# Famille pandas\n",
    "\n",
    "famille_panda =[\n",
    "    [100, 5, 20, 80], #maman\n",
    "    [50, 2.5, 10, 40], #bébé\n",
    "    [110, 6, 22, 80] #papa\n",
    "]\n",
    "\n",
    "famille_panda_numpy = np.array(famille_panda)\n",
    "print(type(famille_panda_numpy))\n",
    "famille_panda_numpy"
   ]
  },
  {
   "cell_type": "markdown",
   "id": "c796af83",
   "metadata": {},
   "source": [
    "# Le module Pandas"
   ]
  },
  {
   "cell_type": "code",
   "execution_count": 3,
   "id": "abc92d29",
   "metadata": {},
   "outputs": [
    {
     "data": {
      "text/html": [
       "<div>\n",
       "<style scoped>\n",
       "    .dataframe tbody tr th:only-of-type {\n",
       "        vertical-align: middle;\n",
       "    }\n",
       "\n",
       "    .dataframe tbody tr th {\n",
       "        vertical-align: top;\n",
       "    }\n",
       "\n",
       "    .dataframe thead th {\n",
       "        text-align: right;\n",
       "    }\n",
       "</style>\n",
       "<table border=\"1\" class=\"dataframe\">\n",
       "  <thead>\n",
       "    <tr style=\"text-align: right;\">\n",
       "      <th></th>\n",
       "      <th>0</th>\n",
       "      <th>1</th>\n",
       "      <th>2</th>\n",
       "      <th>3</th>\n",
       "    </tr>\n",
       "  </thead>\n",
       "  <tbody>\n",
       "    <tr>\n",
       "      <th>0</th>\n",
       "      <td>100.0</td>\n",
       "      <td>5.0</td>\n",
       "      <td>20.0</td>\n",
       "      <td>80.0</td>\n",
       "    </tr>\n",
       "    <tr>\n",
       "      <th>1</th>\n",
       "      <td>50.0</td>\n",
       "      <td>2.5</td>\n",
       "      <td>10.0</td>\n",
       "      <td>40.0</td>\n",
       "    </tr>\n",
       "    <tr>\n",
       "      <th>2</th>\n",
       "      <td>110.0</td>\n",
       "      <td>6.0</td>\n",
       "      <td>22.0</td>\n",
       "      <td>80.0</td>\n",
       "    </tr>\n",
       "  </tbody>\n",
       "</table>\n",
       "</div>"
      ],
      "text/plain": [
       "       0    1     2     3\n",
       "0  100.0  5.0  20.0  80.0\n",
       "1   50.0  2.5  10.0  40.0\n",
       "2  110.0  6.0  22.0  80.0"
      ]
     },
     "execution_count": 3,
     "metadata": {},
     "output_type": "execute_result"
    }
   ],
   "source": [
    "# Création d'une dataframe à partir d'un tableau Numpy\n",
    "famille_panda_df = pd.DataFrame(famille_panda_numpy)\n",
    "famille_panda_df"
   ]
  },
  {
   "cell_type": "markdown",
   "id": "bd8418c9",
   "metadata": {},
   "source": [
    "On peut mieux faire"
   ]
  },
  {
   "cell_type": "code",
   "execution_count": 4,
   "id": "3d629180",
   "metadata": {},
   "outputs": [
    {
     "data": {
      "text/html": [
       "<div>\n",
       "<style scoped>\n",
       "    .dataframe tbody tr th:only-of-type {\n",
       "        vertical-align: middle;\n",
       "    }\n",
       "\n",
       "    .dataframe tbody tr th {\n",
       "        vertical-align: top;\n",
       "    }\n",
       "\n",
       "    .dataframe thead th {\n",
       "        text-align: right;\n",
       "    }\n",
       "</style>\n",
       "<table border=\"1\" class=\"dataframe\">\n",
       "  <thead>\n",
       "    <tr style=\"text-align: right;\">\n",
       "      <th></th>\n",
       "      <th>Pattes</th>\n",
       "      <th>Poils</th>\n",
       "      <th>Queue</th>\n",
       "      <th>Ventre</th>\n",
       "    </tr>\n",
       "  </thead>\n",
       "  <tbody>\n",
       "    <tr>\n",
       "      <th>Maman</th>\n",
       "      <td>100.0</td>\n",
       "      <td>5.0</td>\n",
       "      <td>20.0</td>\n",
       "      <td>80.0</td>\n",
       "    </tr>\n",
       "    <tr>\n",
       "      <th>Bébé</th>\n",
       "      <td>50.0</td>\n",
       "      <td>2.5</td>\n",
       "      <td>10.0</td>\n",
       "      <td>40.0</td>\n",
       "    </tr>\n",
       "    <tr>\n",
       "      <th>Papa</th>\n",
       "      <td>110.0</td>\n",
       "      <td>6.0</td>\n",
       "      <td>22.0</td>\n",
       "      <td>80.0</td>\n",
       "    </tr>\n",
       "  </tbody>\n",
       "</table>\n",
       "</div>"
      ],
      "text/plain": [
       "       Pattes  Poils  Queue  Ventre\n",
       "Maman   100.0    5.0   20.0    80.0\n",
       "Bébé     50.0    2.5   10.0    40.0\n",
       "Papa    110.0    6.0   22.0    80.0"
      ]
     },
     "execution_count": 4,
     "metadata": {},
     "output_type": "execute_result"
    }
   ],
   "source": [
    "famille_panda_df = pd.DataFrame(famille_panda_numpy,\n",
    "                                      columns=['Pattes','Poils','Queue','Ventre'],\n",
    "                                      index=['Maman','Bébé','Papa'])\n",
    "famille_panda_df"
   ]
  },
  {
   "cell_type": "markdown",
   "id": "f175533f",
   "metadata": {},
   "source": [
    "Le nom des lignes est appelé index. Un index peut être une chaîne de caractères ou un nombre entier. Quand aucun index n'est spécifié à la création du dataframe, il est initialisé par défaut avec une suite continue d'entiers commençant par 0.\n",
    "\n",
    "\n",
    "L'objet DataFrame est très similaire à certains concepts que l'on trouve en dehors du cadre du langage Python. Il est similaire :\n",
    "\n",
    "- aux tables des bases de données relationnelles (type MySQL, PostgreSQL, etc.) que l'on manipule grâce au langage SQL\n",
    "\n",
    "- à l'objet dataframe sur lequel se base tout le langage R, langage destiné aux statisticiens et aux Data Analysts\n",
    "\n",
    "- aux tableaux excel\n",
    "\n",
    "\n",
    "Voici quelques petites fonctionnalités des Dataframes.\n",
    "\n",
    "Tout d'abord, accédons à la colonne *ventre* de notre table. Il y a deux syntaxes possibles, qui renvoient exactement le même résultat :"
   ]
  },
  {
   "cell_type": "code",
   "execution_count": 5,
   "id": "983cbbbb",
   "metadata": {},
   "outputs": [
    {
     "data": {
      "text/plain": [
       "Maman    80.0\n",
       "Bébé     40.0\n",
       "Papa     80.0\n",
       "Name: Ventre, dtype: float64"
      ]
     },
     "execution_count": 5,
     "metadata": {},
     "output_type": "execute_result"
    }
   ],
   "source": [
    "# premiere syntaxe\n",
    "famille_panda_df['Ventre']"
   ]
  },
  {
   "cell_type": "markdown",
   "id": "9937ab7f",
   "metadata": {},
   "source": [
    "L'objet que renvoie famille_panda_df[\"ventre\"] est de type pandas.Series. Pour obtenir les valeurs de la colonne ventre au format numpy, il faut saisir : *famille_panda_df[\"ventre\"].values*."
   ]
  },
  {
   "cell_type": "code",
   "execution_count": 6,
   "id": "8bd6a899",
   "metadata": {},
   "outputs": [
    {
     "data": {
      "text/plain": [
       "array([80., 40., 80.])"
      ]
     },
     "execution_count": 6,
     "metadata": {},
     "output_type": "execute_result"
    }
   ],
   "source": [
    "# deuxieme syntaxe\n",
    "famille_panda_df['Ventre'].values"
   ]
  },
  {
   "cell_type": "markdown",
   "id": "b4c0b19d",
   "metadata": {},
   "source": [
    "Accédons maintenant au papa panda : d'abord par sa position (position 2), puis par son nom \"papa\". Le résultat retourné est exactement le même dans les 2 cas."
   ]
  },
  {
   "cell_type": "code",
   "execution_count": 7,
   "id": "5ddc9a18",
   "metadata": {},
   "outputs": [
    {
     "data": {
      "text/plain": [
       "Pattes    110.0\n",
       "Poils       6.0\n",
       "Queue      22.0\n",
       "Ventre     80.0\n",
       "Name: Papa, dtype: float64"
      ]
     },
     "execution_count": 7,
     "metadata": {},
     "output_type": "execute_result"
    }
   ],
   "source": [
    "# Avec iloc(), indexation positionnelle\n",
    "famille_panda_df.iloc[2]"
   ]
  },
  {
   "cell_type": "code",
   "execution_count": 8,
   "id": "34d39a0e",
   "metadata": {},
   "outputs": [
    {
     "data": {
      "text/plain": [
       "Pattes    110.0\n",
       "Poils       6.0\n",
       "Queue      22.0\n",
       "Ventre     80.0\n",
       "Name: Papa, dtype: float64"
      ]
     },
     "execution_count": 8,
     "metadata": {},
     "output_type": "execute_result"
    }
   ],
   "source": [
    "# Avec loc(), indexation par label\n",
    "famille_panda_df.loc['Papa']"
   ]
  },
  {
   "cell_type": "markdown",
   "id": "72d8070e",
   "metadata": {},
   "source": [
    "Déterminons les pandas dont le diamètre du ventre est de 80cm (Filtration de données) :"
   ]
  },
  {
   "cell_type": "code",
   "execution_count": 9,
   "id": "71889807",
   "metadata": {},
   "outputs": [
    {
     "data": {
      "text/plain": [
       "Maman     True\n",
       "Bébé     False\n",
       "Papa      True\n",
       "Name: Ventre, dtype: bool"
      ]
     },
     "execution_count": 9,
     "metadata": {},
     "output_type": "execute_result"
    }
   ],
   "source": [
    "mask = famille_panda_df['Ventre'] == 80\n",
    "mask"
   ]
  },
  {
   "cell_type": "markdown",
   "id": "10d8eb59",
   "metadata": {},
   "source": [
    "Ici, on teste chaque élément de la colonne \"ventre\" en demandant s'il est égal à 80. On obtient la réponse suivante : \"maman\" : True, \"bebe\" : False, \"papa\" : True.\n",
    "\n",
    "\n",
    "Le résultat de cette opération est très pratique pour filtrer des lignes ! Par exemple, pour sélectionner uniquement les pandas dont le ventre est de 80cm, il suffit d'intégrer ce précédent résultat en tant que masque, comme ceci :"
   ]
  },
  {
   "cell_type": "code",
   "execution_count": 10,
   "id": "f7417eae",
   "metadata": {},
   "outputs": [
    {
     "data": {
      "text/html": [
       "<div>\n",
       "<style scoped>\n",
       "    .dataframe tbody tr th:only-of-type {\n",
       "        vertical-align: middle;\n",
       "    }\n",
       "\n",
       "    .dataframe tbody tr th {\n",
       "        vertical-align: top;\n",
       "    }\n",
       "\n",
       "    .dataframe thead th {\n",
       "        text-align: right;\n",
       "    }\n",
       "</style>\n",
       "<table border=\"1\" class=\"dataframe\">\n",
       "  <thead>\n",
       "    <tr style=\"text-align: right;\">\n",
       "      <th></th>\n",
       "      <th>Pattes</th>\n",
       "      <th>Poils</th>\n",
       "      <th>Queue</th>\n",
       "      <th>Ventre</th>\n",
       "    </tr>\n",
       "  </thead>\n",
       "  <tbody>\n",
       "    <tr>\n",
       "      <th>Maman</th>\n",
       "      <td>100.0</td>\n",
       "      <td>5.0</td>\n",
       "      <td>20.0</td>\n",
       "      <td>80.0</td>\n",
       "    </tr>\n",
       "    <tr>\n",
       "      <th>Papa</th>\n",
       "      <td>110.0</td>\n",
       "      <td>6.0</td>\n",
       "      <td>22.0</td>\n",
       "      <td>80.0</td>\n",
       "    </tr>\n",
       "  </tbody>\n",
       "</table>\n",
       "</div>"
      ],
      "text/plain": [
       "       Pattes  Poils  Queue  Ventre\n",
       "Maman   100.0    5.0   20.0    80.0\n",
       "Papa    110.0    6.0   22.0    80.0"
      ]
     },
     "execution_count": 10,
     "metadata": {},
     "output_type": "execute_result"
    }
   ],
   "source": [
    "famille_panda_df[mask]\n",
    "\n",
    "# On écrit plus souvent cela de cette manière :\n",
    "# pandas_80 = famille_panda_df[famille_panda_df[\"ventre\"] == 80]"
   ]
  },
  {
   "cell_type": "markdown",
   "id": "d83b2e1c",
   "metadata": {},
   "source": [
    "Pour inverser le masque, il suffit d'utiliser l'opérateur ~, et nous sélectionnons les pandas qui n'ont pas un ventre de 80cm :"
   ]
  },
  {
   "cell_type": "code",
   "execution_count": 11,
   "id": "958e78c6",
   "metadata": {},
   "outputs": [
    {
     "data": {
      "text/html": [
       "<div>\n",
       "<style scoped>\n",
       "    .dataframe tbody tr th:only-of-type {\n",
       "        vertical-align: middle;\n",
       "    }\n",
       "\n",
       "    .dataframe tbody tr th {\n",
       "        vertical-align: top;\n",
       "    }\n",
       "\n",
       "    .dataframe thead th {\n",
       "        text-align: right;\n",
       "    }\n",
       "</style>\n",
       "<table border=\"1\" class=\"dataframe\">\n",
       "  <thead>\n",
       "    <tr style=\"text-align: right;\">\n",
       "      <th></th>\n",
       "      <th>Pattes</th>\n",
       "      <th>Poils</th>\n",
       "      <th>Queue</th>\n",
       "      <th>Ventre</th>\n",
       "    </tr>\n",
       "  </thead>\n",
       "  <tbody>\n",
       "    <tr>\n",
       "      <th>Bébé</th>\n",
       "      <td>50.0</td>\n",
       "      <td>2.5</td>\n",
       "      <td>10.0</td>\n",
       "      <td>40.0</td>\n",
       "    </tr>\n",
       "  </tbody>\n",
       "</table>\n",
       "</div>"
      ],
      "text/plain": [
       "      Pattes  Poils  Queue  Ventre\n",
       "Bébé    50.0    2.5   10.0    40.0"
      ]
     },
     "execution_count": 11,
     "metadata": {},
     "output_type": "execute_result"
    }
   ],
   "source": [
    "famille_panda_df[~mask]"
   ]
  },
  {
   "cell_type": "markdown",
   "id": "5c0191a4",
   "metadata": {},
   "source": [
    "Maintenant, ajoutons des lignes à notre dataframe. Il y a plusieurs méthodes pour cela, mais voyons ici la plus simple : assemblons ensemble deux dataframes."
   ]
  },
  {
   "cell_type": "code",
   "execution_count": 12,
   "id": "d46b6eb4",
   "metadata": {},
   "outputs": [
    {
     "data": {
      "text/html": [
       "<div>\n",
       "<style scoped>\n",
       "    .dataframe tbody tr th:only-of-type {\n",
       "        vertical-align: middle;\n",
       "    }\n",
       "\n",
       "    .dataframe tbody tr th {\n",
       "        vertical-align: top;\n",
       "    }\n",
       "\n",
       "    .dataframe thead th {\n",
       "        text-align: right;\n",
       "    }\n",
       "</style>\n",
       "<table border=\"1\" class=\"dataframe\">\n",
       "  <thead>\n",
       "    <tr style=\"text-align: right;\">\n",
       "      <th></th>\n",
       "      <th>Pattes</th>\n",
       "      <th>Poils</th>\n",
       "      <th>Queue</th>\n",
       "      <th>Ventre</th>\n",
       "    </tr>\n",
       "  </thead>\n",
       "  <tbody>\n",
       "    <tr>\n",
       "      <th>Oncle</th>\n",
       "      <td>105</td>\n",
       "      <td>4</td>\n",
       "      <td>19</td>\n",
       "      <td>80</td>\n",
       "    </tr>\n",
       "    <tr>\n",
       "      <th>Tante</th>\n",
       "      <td>100</td>\n",
       "      <td>5</td>\n",
       "      <td>20</td>\n",
       "      <td>80</td>\n",
       "    </tr>\n",
       "  </tbody>\n",
       "</table>\n",
       "</div>"
      ],
      "text/plain": [
       "       Pattes  Poils  Queue  Ventre\n",
       "Oncle     105      4     19      80\n",
       "Tante     100      5     20      80"
      ]
     },
     "execution_count": 12,
     "metadata": {},
     "output_type": "execute_result"
    }
   ],
   "source": [
    "# deux nouveaux pandas\n",
    "quelques_pandas = pd.DataFrame([[105, 4, 19, 80], [100, 5, 20, 80]],\n",
    "                              columns = famille_panda_df.columns,\n",
    "                              index = ['Oncle','Tante'])\n",
    "quelques_pandas"
   ]
  },
  {
   "cell_type": "code",
   "execution_count": 13,
   "id": "2173c2a3",
   "metadata": {},
   "outputs": [
    {
     "data": {
      "text/html": [
       "<div>\n",
       "<style scoped>\n",
       "    .dataframe tbody tr th:only-of-type {\n",
       "        vertical-align: middle;\n",
       "    }\n",
       "\n",
       "    .dataframe tbody tr th {\n",
       "        vertical-align: top;\n",
       "    }\n",
       "\n",
       "    .dataframe thead th {\n",
       "        text-align: right;\n",
       "    }\n",
       "</style>\n",
       "<table border=\"1\" class=\"dataframe\">\n",
       "  <thead>\n",
       "    <tr style=\"text-align: right;\">\n",
       "      <th></th>\n",
       "      <th>Pattes</th>\n",
       "      <th>Poils</th>\n",
       "      <th>Queue</th>\n",
       "      <th>Ventre</th>\n",
       "    </tr>\n",
       "  </thead>\n",
       "  <tbody>\n",
       "    <tr>\n",
       "      <th>Maman</th>\n",
       "      <td>100.0</td>\n",
       "      <td>5.0</td>\n",
       "      <td>20.0</td>\n",
       "      <td>80.0</td>\n",
       "    </tr>\n",
       "    <tr>\n",
       "      <th>Bébé</th>\n",
       "      <td>50.0</td>\n",
       "      <td>2.5</td>\n",
       "      <td>10.0</td>\n",
       "      <td>40.0</td>\n",
       "    </tr>\n",
       "    <tr>\n",
       "      <th>Papa</th>\n",
       "      <td>110.0</td>\n",
       "      <td>6.0</td>\n",
       "      <td>22.0</td>\n",
       "      <td>80.0</td>\n",
       "    </tr>\n",
       "    <tr>\n",
       "      <th>Oncle</th>\n",
       "      <td>105.0</td>\n",
       "      <td>4.0</td>\n",
       "      <td>19.0</td>\n",
       "      <td>80.0</td>\n",
       "    </tr>\n",
       "    <tr>\n",
       "      <th>Tante</th>\n",
       "      <td>100.0</td>\n",
       "      <td>5.0</td>\n",
       "      <td>20.0</td>\n",
       "      <td>80.0</td>\n",
       "    </tr>\n",
       "  </tbody>\n",
       "</table>\n",
       "</div>"
      ],
      "text/plain": [
       "       Pattes  Poils  Queue  Ventre\n",
       "Maman   100.0    5.0   20.0    80.0\n",
       "Bébé     50.0    2.5   10.0    40.0\n",
       "Papa    110.0    6.0   22.0    80.0\n",
       "Oncle   105.0    4.0   19.0    80.0\n",
       "Tante   100.0    5.0   20.0    80.0"
      ]
     },
     "execution_count": 13,
     "metadata": {},
     "output_type": "execute_result"
    }
   ],
   "source": [
    "tous_les_pandas = famille_panda_df.append(quelques_pandas)\n",
    "tous_les_pandas"
   ]
  },
  {
   "cell_type": "markdown",
   "id": "45accdce",
   "metadata": {},
   "source": [
    "Dans le dataframe tous_les_pandas, il y a des doublons. En effet, le premier panda (maman) et le dernier panda (dont l'index est tante) ont exactement les mêmes mesures. Si nous souhaitions dédoublonner, nous ferions ceci :"
   ]
  },
  {
   "cell_type": "code",
   "execution_count": 14,
   "id": "962a8824",
   "metadata": {},
   "outputs": [
    {
     "data": {
      "text/html": [
       "<div>\n",
       "<style scoped>\n",
       "    .dataframe tbody tr th:only-of-type {\n",
       "        vertical-align: middle;\n",
       "    }\n",
       "\n",
       "    .dataframe tbody tr th {\n",
       "        vertical-align: top;\n",
       "    }\n",
       "\n",
       "    .dataframe thead th {\n",
       "        text-align: right;\n",
       "    }\n",
       "</style>\n",
       "<table border=\"1\" class=\"dataframe\">\n",
       "  <thead>\n",
       "    <tr style=\"text-align: right;\">\n",
       "      <th></th>\n",
       "      <th>Pattes</th>\n",
       "      <th>Poils</th>\n",
       "      <th>Queue</th>\n",
       "      <th>Ventre</th>\n",
       "    </tr>\n",
       "  </thead>\n",
       "  <tbody>\n",
       "    <tr>\n",
       "      <th>Maman</th>\n",
       "      <td>100.0</td>\n",
       "      <td>5.0</td>\n",
       "      <td>20.0</td>\n",
       "      <td>80.0</td>\n",
       "    </tr>\n",
       "    <tr>\n",
       "      <th>Bébé</th>\n",
       "      <td>50.0</td>\n",
       "      <td>2.5</td>\n",
       "      <td>10.0</td>\n",
       "      <td>40.0</td>\n",
       "    </tr>\n",
       "    <tr>\n",
       "      <th>Papa</th>\n",
       "      <td>110.0</td>\n",
       "      <td>6.0</td>\n",
       "      <td>22.0</td>\n",
       "      <td>80.0</td>\n",
       "    </tr>\n",
       "    <tr>\n",
       "      <th>Oncle</th>\n",
       "      <td>105.0</td>\n",
       "      <td>4.0</td>\n",
       "      <td>19.0</td>\n",
       "      <td>80.0</td>\n",
       "    </tr>\n",
       "  </tbody>\n",
       "</table>\n",
       "</div>"
      ],
      "text/plain": [
       "       Pattes  Poils  Queue  Ventre\n",
       "Maman   100.0    5.0   20.0    80.0\n",
       "Bébé     50.0    2.5   10.0    40.0\n",
       "Papa    110.0    6.0   22.0    80.0\n",
       "Oncle   105.0    4.0   19.0    80.0"
      ]
     },
     "execution_count": 14,
     "metadata": {},
     "output_type": "execute_result"
    }
   ],
   "source": [
    "tous_les_pandas.drop_duplicates()"
   ]
  },
  {
   "cell_type": "code",
   "execution_count": 15,
   "id": "6e040e37",
   "metadata": {},
   "outputs": [
    {
     "data": {
      "text/html": [
       "<div>\n",
       "<style scoped>\n",
       "    .dataframe tbody tr th:only-of-type {\n",
       "        vertical-align: middle;\n",
       "    }\n",
       "\n",
       "    .dataframe tbody tr th {\n",
       "        vertical-align: top;\n",
       "    }\n",
       "\n",
       "    .dataframe thead th {\n",
       "        text-align: right;\n",
       "    }\n",
       "</style>\n",
       "<table border=\"1\" class=\"dataframe\">\n",
       "  <thead>\n",
       "    <tr style=\"text-align: right;\">\n",
       "      <th></th>\n",
       "      <th>Pattes</th>\n",
       "      <th>Poils</th>\n",
       "      <th>Queue</th>\n",
       "      <th>Ventre</th>\n",
       "    </tr>\n",
       "  </thead>\n",
       "  <tbody>\n",
       "    <tr>\n",
       "      <th>Maman</th>\n",
       "      <td>100.0</td>\n",
       "      <td>5.0</td>\n",
       "      <td>20.0</td>\n",
       "      <td>80.0</td>\n",
       "    </tr>\n",
       "    <tr>\n",
       "      <th>Bébé</th>\n",
       "      <td>50.0</td>\n",
       "      <td>2.5</td>\n",
       "      <td>10.0</td>\n",
       "      <td>40.0</td>\n",
       "    </tr>\n",
       "    <tr>\n",
       "      <th>Papa</th>\n",
       "      <td>110.0</td>\n",
       "      <td>6.0</td>\n",
       "      <td>22.0</td>\n",
       "      <td>80.0</td>\n",
       "    </tr>\n",
       "    <tr>\n",
       "      <th>Oncle</th>\n",
       "      <td>105.0</td>\n",
       "      <td>4.0</td>\n",
       "      <td>19.0</td>\n",
       "      <td>80.0</td>\n",
       "    </tr>\n",
       "    <tr>\n",
       "      <th>Tante</th>\n",
       "      <td>100.0</td>\n",
       "      <td>5.0</td>\n",
       "      <td>20.0</td>\n",
       "      <td>80.0</td>\n",
       "    </tr>\n",
       "  </tbody>\n",
       "</table>\n",
       "</div>"
      ],
      "text/plain": [
       "       Pattes  Poils  Queue  Ventre\n",
       "Maman   100.0    5.0   20.0    80.0\n",
       "Bébé     50.0    2.5   10.0    40.0\n",
       "Papa    110.0    6.0   22.0    80.0\n",
       "Oncle   105.0    4.0   19.0    80.0\n",
       "Tante   100.0    5.0   20.0    80.0"
      ]
     },
     "execution_count": 15,
     "metadata": {},
     "output_type": "execute_result"
    }
   ],
   "source": [
    "tous_les_pandas"
   ]
  },
  {
   "cell_type": "markdown",
   "id": "8ac1c7bb",
   "metadata": {},
   "source": [
    "Dans le dataframe tous_les_pandas, il y a des doublons. En effet, le premier panda (maman) et le dernier panda (dont l'index est 1) ont exactement les mêmes mesures. Si nous souhaitions dédoublonner, nous ferions ceci :"
   ]
  },
  {
   "cell_type": "code",
   "execution_count": 16,
   "id": "5a645549",
   "metadata": {},
   "outputs": [
    {
     "data": {
      "text/html": [
       "<div>\n",
       "<style scoped>\n",
       "    .dataframe tbody tr th:only-of-type {\n",
       "        vertical-align: middle;\n",
       "    }\n",
       "\n",
       "    .dataframe tbody tr th {\n",
       "        vertical-align: top;\n",
       "    }\n",
       "\n",
       "    .dataframe thead th {\n",
       "        text-align: right;\n",
       "    }\n",
       "</style>\n",
       "<table border=\"1\" class=\"dataframe\">\n",
       "  <thead>\n",
       "    <tr style=\"text-align: right;\">\n",
       "      <th></th>\n",
       "      <th>Pattes</th>\n",
       "      <th>Poils</th>\n",
       "      <th>Queue</th>\n",
       "      <th>Ventre</th>\n",
       "    </tr>\n",
       "  </thead>\n",
       "  <tbody>\n",
       "    <tr>\n",
       "      <th>Maman</th>\n",
       "      <td>100.0</td>\n",
       "      <td>5.0</td>\n",
       "      <td>20.0</td>\n",
       "      <td>80.0</td>\n",
       "    </tr>\n",
       "    <tr>\n",
       "      <th>Bébé</th>\n",
       "      <td>50.0</td>\n",
       "      <td>2.5</td>\n",
       "      <td>10.0</td>\n",
       "      <td>40.0</td>\n",
       "    </tr>\n",
       "    <tr>\n",
       "      <th>Papa</th>\n",
       "      <td>110.0</td>\n",
       "      <td>6.0</td>\n",
       "      <td>22.0</td>\n",
       "      <td>80.0</td>\n",
       "    </tr>\n",
       "    <tr>\n",
       "      <th>Oncle</th>\n",
       "      <td>105.0</td>\n",
       "      <td>4.0</td>\n",
       "      <td>19.0</td>\n",
       "      <td>80.0</td>\n",
       "    </tr>\n",
       "  </tbody>\n",
       "</table>\n",
       "</div>"
      ],
      "text/plain": [
       "       Pattes  Poils  Queue  Ventre\n",
       "Maman   100.0    5.0   20.0    80.0\n",
       "Bébé     50.0    2.5   10.0    40.0\n",
       "Papa    110.0    6.0   22.0    80.0\n",
       "Oncle   105.0    4.0   19.0    80.0"
      ]
     },
     "execution_count": 16,
     "metadata": {},
     "output_type": "execute_result"
    }
   ],
   "source": [
    "pandas_unique = tous_les_pandas.drop_duplicates()\n",
    "pandas_unique"
   ]
  },
  {
   "cell_type": "markdown",
   "id": "cf097da7",
   "metadata": {},
   "source": [
    " ... soit remplacer la variable tous_les_pandas par ce nouveau dataframe dédoublonné :"
   ]
  },
  {
   "cell_type": "code",
   "execution_count": 17,
   "id": "f24dbc84",
   "metadata": {},
   "outputs": [
    {
     "data": {
      "text/html": [
       "<div>\n",
       "<style scoped>\n",
       "    .dataframe tbody tr th:only-of-type {\n",
       "        vertical-align: middle;\n",
       "    }\n",
       "\n",
       "    .dataframe tbody tr th {\n",
       "        vertical-align: top;\n",
       "    }\n",
       "\n",
       "    .dataframe thead th {\n",
       "        text-align: right;\n",
       "    }\n",
       "</style>\n",
       "<table border=\"1\" class=\"dataframe\">\n",
       "  <thead>\n",
       "    <tr style=\"text-align: right;\">\n",
       "      <th></th>\n",
       "      <th>Pattes</th>\n",
       "      <th>Poils</th>\n",
       "      <th>Queue</th>\n",
       "      <th>Ventre</th>\n",
       "    </tr>\n",
       "  </thead>\n",
       "  <tbody>\n",
       "    <tr>\n",
       "      <th>Maman</th>\n",
       "      <td>100.0</td>\n",
       "      <td>5.0</td>\n",
       "      <td>20.0</td>\n",
       "      <td>80.0</td>\n",
       "    </tr>\n",
       "    <tr>\n",
       "      <th>Bébé</th>\n",
       "      <td>50.0</td>\n",
       "      <td>2.5</td>\n",
       "      <td>10.0</td>\n",
       "      <td>40.0</td>\n",
       "    </tr>\n",
       "    <tr>\n",
       "      <th>Papa</th>\n",
       "      <td>110.0</td>\n",
       "      <td>6.0</td>\n",
       "      <td>22.0</td>\n",
       "      <td>80.0</td>\n",
       "    </tr>\n",
       "    <tr>\n",
       "      <th>Oncle</th>\n",
       "      <td>105.0</td>\n",
       "      <td>4.0</td>\n",
       "      <td>19.0</td>\n",
       "      <td>80.0</td>\n",
       "    </tr>\n",
       "  </tbody>\n",
       "</table>\n",
       "</div>"
      ],
      "text/plain": [
       "       Pattes  Poils  Queue  Ventre\n",
       "Maman   100.0    5.0   20.0    80.0\n",
       "Bébé     50.0    2.5   10.0    40.0\n",
       "Papa    110.0    6.0   22.0    80.0\n",
       "Oncle   105.0    4.0   19.0    80.0"
      ]
     },
     "execution_count": 17,
     "metadata": {},
     "output_type": "execute_result"
    }
   ],
   "source": [
    "tous_les_pandas = tous_les_pandas.drop_duplicates()\n",
    "tous_les_pandas"
   ]
  },
  {
   "cell_type": "markdown",
   "id": "44d0cec2",
   "metadata": {},
   "source": [
    "Voici quelques autres fonctionnalités en vrac :\n"
   ]
  },
  {
   "cell_type": "code",
   "execution_count": 19,
   "id": "a2b32e49",
   "metadata": {},
   "outputs": [
    {
     "name": "stdout",
     "output_type": "stream",
     "text": [
      "Index(['Pattes', 'Poils', 'Queue', 'Ventre', 'Sexe'], dtype='object')\n",
      "(3, 5)\n"
     ]
    }
   ],
   "source": [
    "# créer une nouvelle colonne, composée de chaînes de caractères\n",
    "# la maman et le bébé sont des femelles, le papa est un mâle\n",
    "famille_panda_df[\"Sexe\"] = ['f', 'f', 'm']\n",
    "\n",
    "# accéder aux noms des colonnes\n",
    "print(famille_panda_df.columns)\n",
    "\n",
    "# obtenir le nombre de lignes et de colonnes de la dataframe\n",
    "print(famille_panda_df.shape)"
   ]
  },
  {
   "cell_type": "code",
   "execution_count": 20,
   "id": "37d334a3",
   "metadata": {},
   "outputs": [
    {
     "data": {
      "text/html": [
       "<div>\n",
       "<style scoped>\n",
       "    .dataframe tbody tr th:only-of-type {\n",
       "        vertical-align: middle;\n",
       "    }\n",
       "\n",
       "    .dataframe tbody tr th {\n",
       "        vertical-align: top;\n",
       "    }\n",
       "\n",
       "    .dataframe thead th {\n",
       "        text-align: right;\n",
       "    }\n",
       "</style>\n",
       "<table border=\"1\" class=\"dataframe\">\n",
       "  <thead>\n",
       "    <tr style=\"text-align: right;\">\n",
       "      <th></th>\n",
       "      <th>Pattes</th>\n",
       "      <th>Poils</th>\n",
       "      <th>Queue</th>\n",
       "      <th>Ventre</th>\n",
       "      <th>Sexe</th>\n",
       "    </tr>\n",
       "  </thead>\n",
       "  <tbody>\n",
       "    <tr>\n",
       "      <th>Maman</th>\n",
       "      <td>100.0</td>\n",
       "      <td>5.0</td>\n",
       "      <td>20.0</td>\n",
       "      <td>80.0</td>\n",
       "      <td>f</td>\n",
       "    </tr>\n",
       "    <tr>\n",
       "      <th>Bébé</th>\n",
       "      <td>50.0</td>\n",
       "      <td>2.5</td>\n",
       "      <td>10.0</td>\n",
       "      <td>40.0</td>\n",
       "      <td>f</td>\n",
       "    </tr>\n",
       "    <tr>\n",
       "      <th>Papa</th>\n",
       "      <td>110.0</td>\n",
       "      <td>6.0</td>\n",
       "      <td>22.0</td>\n",
       "      <td>80.0</td>\n",
       "      <td>m</td>\n",
       "    </tr>\n",
       "  </tbody>\n",
       "</table>\n",
       "</div>"
      ],
      "text/plain": [
       "       Pattes  Poils  Queue  Ventre Sexe\n",
       "Maman   100.0    5.0   20.0    80.0    f\n",
       "Bébé     50.0    2.5   10.0    40.0    f\n",
       "Papa    110.0    6.0   22.0    80.0    m"
      ]
     },
     "execution_count": 20,
     "metadata": {},
     "output_type": "execute_result"
    }
   ],
   "source": [
    "famille_panda_df"
   ]
  },
  {
   "cell_type": "markdown",
   "id": "2d26ae48",
   "metadata": {},
   "source": [
    "La dataframe a trois lignes et cing colonnes. Il y a une méthode applicable sur les dataframes qui retourne plusieurs informations d'un seul coup : la méthode ***.info()***"
   ]
  },
  {
   "cell_type": "code",
   "execution_count": 21,
   "id": "e6722e46",
   "metadata": {},
   "outputs": [
    {
     "name": "stdout",
     "output_type": "stream",
     "text": [
      "<class 'pandas.core.frame.DataFrame'>\n",
      "Index: 3 entries, Maman to Papa\n",
      "Data columns (total 5 columns):\n",
      " #   Column  Non-Null Count  Dtype  \n",
      "---  ------  --------------  -----  \n",
      " 0   Pattes  3 non-null      float64\n",
      " 1   Poils   3 non-null      float64\n",
      " 2   Queue   3 non-null      float64\n",
      " 3   Ventre  3 non-null      float64\n",
      " 4   Sexe    3 non-null      object \n",
      "dtypes: float64(4), object(1)\n",
      "memory usage: 252.0+ bytes\n"
     ]
    }
   ],
   "source": [
    "famille_panda_df.info()"
   ]
  },
  {
   "cell_type": "markdown",
   "id": "42ec2356",
   "metadata": {},
   "source": [
    "Le résultat ci-dessus nous renseigne sur les noms des colonnes, le nombre de valeurs non manquantes par colonne (implicitement le nombre de valeurs manquantes par colonne), le type des valeurs dans chaque colonne, la mémoire utilisée par ces données, le nombre de lignes et de colonnes, etc.       "
   ]
  },
  {
   "cell_type": "code",
   "execution_count": 22,
   "id": "bd619410",
   "metadata": {},
   "outputs": [
    {
     "data": {
      "text/plain": [
       "array(['f', 'm'], dtype=object)"
      ]
     },
     "execution_count": 22,
     "metadata": {},
     "output_type": "execute_result"
    }
   ],
   "source": [
    "# obtenir les valeurs distinctes d'une colonne :\n",
    "# pour la colonne ventre, il y a deux valeurs distinctes : 40 et \n",
    "famille_panda_df['Sexe'].unique()"
   ]
  },
  {
   "cell_type": "code",
   "execution_count": 23,
   "id": "1b3efb18",
   "metadata": {},
   "outputs": [
    {
     "data": {
      "text/plain": [
       "array([80., 40.])"
      ]
     },
     "execution_count": 23,
     "metadata": {},
     "output_type": "execute_result"
    }
   ],
   "source": [
    "famille_panda_df['Ventre'].unique()"
   ]
  },
  {
   "cell_type": "code",
   "execution_count": null,
   "id": "b25987b0",
   "metadata": {},
   "outputs": [],
   "source": []
  }
 ],
 "metadata": {
  "kernelspec": {
   "display_name": "Python 3",
   "language": "python",
   "name": "python3"
  },
  "language_info": {
   "codemirror_mode": {
    "name": "ipython",
    "version": 3
   },
   "file_extension": ".py",
   "mimetype": "text/x-python",
   "name": "python",
   "nbconvert_exporter": "python",
   "pygments_lexer": "ipython3",
   "version": "3.8.8"
  }
 },
 "nbformat": 4,
 "nbformat_minor": 5
}

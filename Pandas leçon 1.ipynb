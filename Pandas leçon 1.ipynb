{
 "cells": [
  {
   "cell_type": "code",
   "execution_count": 1,
   "id": "a9e548f0",
   "metadata": {},
   "outputs": [],
   "source": [
    "import pandas as pd\n",
    "import numpy as np"
   ]
  },
  {
   "cell_type": "markdown",
   "id": "d653c61e",
   "metadata": {},
   "source": [
    "La dataframe Pandas est la représentation en mémoire des données la plus utilisée en Data Science avec Python. Que vous travaillez avec des données temporelles, des données provenant des BDD SQL, des données du web, des fichiers textes, excels, des API (Application Programming Interface), la maîtrise de Pandas est absolument essentielle pour vous car c'est un puissant outil qui vous facilitera la vie.             \n",
    "A travers ce cours, vous apprendrez les fondamentaux de Pandas pour l'importation et l'analyse des données."
   ]
  },
  {
   "cell_type": "code",
   "execution_count": 2,
   "id": "378b1199",
   "metadata": {},
   "outputs": [
    {
     "data": {
      "text/plain": [
       "array([100,   5,  20,  80])"
      ]
     },
     "execution_count": 2,
     "metadata": {},
     "output_type": "execute_result"
    }
   ],
   "source": [
    "un_panda_numpy = np.array([100, 5, 20, 80])\n",
    "un_panda_numpy"
   ]
  },
  {
   "cell_type": "markdown",
   "id": "12d05e6b",
   "metadata": {},
   "source": [
    "Ici, notre panda a des pattes de 100cm, des poils de 5cm en moyenne, une queue de 20cm et un ventre de 80cm de diamètre.\n"
   ]
  },
  {
   "cell_type": "markdown",
   "id": "828e5af8",
   "metadata": {},
   "source": [
    "Si on veut représenter plusieurs pandas, on crée une liste de tableaux numpy\n"
   ]
  },
  {
   "cell_type": "code",
   "execution_count": 5,
   "id": "c0baf252",
   "metadata": {},
   "outputs": [
    {
     "data": {
      "text/plain": [
       "array([[100. ,   5. ,  20. ,  80. ],\n",
       "       [ 50. ,   2.5,  10. ,  40. ],\n",
       "       [110. ,   6. ,  22. ,  80. ]])"
      ]
     },
     "execution_count": 5,
     "metadata": {},
     "output_type": "execute_result"
    }
   ],
   "source": [
    "# Famille pandas\n",
    "\n",
    "famille_panda =[\n",
    "    [100, 5, 20, 80], #maman\n",
    "    [50, 2.5, 10, 40], #bébé\n",
    "    [110, 6, 22, 80] #papa\n",
    "]\n",
    "\n",
    "famille_panda_numpy = np.array(famille_panda)\n",
    "famille_panda_numpy"
   ]
  },
  {
   "cell_type": "markdown",
   "id": "e1e4ea83",
   "metadata": {},
   "source": [
    "Par exemple, supposons qu'on veuille obtenir la taille des pattes (situé en position 0 dans chaque liste qui décrit un panda) du panda situé en position 2 dans ma liste (c'est-à-dire papa panda)."
   ]
  },
  {
   "cell_type": "code",
   "execution_count": 15,
   "id": "d0bb7b38",
   "metadata": {},
   "outputs": [
    {
     "data": {
      "text/plain": [
       "110.0"
      ]
     },
     "execution_count": 15,
     "metadata": {},
     "output_type": "execute_result"
    }
   ],
   "source": [
    "# taille des pattes de papa panda, à la manière numpy\n",
    "famille_panda_numpy[2,0]"
   ]
  },
  {
   "cell_type": "markdown",
   "id": "ed715a9d",
   "metadata": {},
   "source": [
    "Pour connaître les tailles des pattes de toute la famille panda :\n"
   ]
  },
  {
   "cell_type": "code",
   "execution_count": 23,
   "id": "356ea0d5",
   "metadata": {},
   "outputs": [
    {
     "data": {
      "text/plain": [
       "array([100.,  50., 110.])"
      ]
     },
     "execution_count": 23,
     "metadata": {},
     "output_type": "execute_result"
    }
   ],
   "source": [
    "# le contenu de la premiere colonne\n",
    "famille_panda_numpy[:,0]"
   ]
  },
  {
   "cell_type": "code",
   "execution_count": null,
   "id": "4386e607",
   "metadata": {},
   "outputs": [],
   "source": []
  }
 ],
 "metadata": {
  "kernelspec": {
   "display_name": "Python 3",
   "language": "python",
   "name": "python3"
  },
  "language_info": {
   "codemirror_mode": {
    "name": "ipython",
    "version": 3
   },
   "file_extension": ".py",
   "mimetype": "text/x-python",
   "name": "python",
   "nbconvert_exporter": "python",
   "pygments_lexer": "ipython3",
   "version": "3.8.8"
  }
 },
 "nbformat": 4,
 "nbformat_minor": 5
}
